{
 "cells": [
  {
   "cell_type": "code",
   "execution_count": 1,
   "id": "5a74411e-6af0-45d9-9ba7-7a168d215e0f",
   "metadata": {},
   "outputs": [],
   "source": [
    "import os\n",
    "import cv2 \n",
    "import numpy as np"
   ]
  },
  {
   "cell_type": "code",
   "execution_count": 2,
   "id": "d88215f6-8c2d-4acc-8d0c-540fca8944ac",
   "metadata": {},
   "outputs": [],
   "source": [
    "people=['Angelina Jolie', 'Tom Hanks', 'Hugh Jackman','Denzel Washington', 'Scarlett Johansson']\n",
    "\n",
    "# p=[]\n",
    "#path = r'D:\\\\Facial recognition\\\\Celebrity Faces Dataset'\n",
    "\n",
    "#for i in os.listdir(path):\n",
    "#  p.append(i)\n",
    "\n",
    "# print(p)\n",
    "haar_cascade = cv2.CascadeClassifier('haar_cascade_default_file.xml')"
   ]
  },
  {
   "cell_type": "code",
   "execution_count": 3,
   "id": "30e67138-f853-411d-85e7-0bc687ad4534",
   "metadata": {},
   "outputs": [
    {
     "name": "stdout",
     "output_type": "stream",
     "text": [
      "Training done-------------------\n"
     ]
    }
   ],
   "source": [
    "DIR = r'D:\\\\Facial recognition\\\\Celebrity Faces Dataset'\n",
    "\n",
    "features=[]\n",
    "labels=[]\n",
    "\n",
    "def create_train():\n",
    "    for person in people:\n",
    "        path=os.path.join(DIR, person)\n",
    "        label=people.index(person)\n",
    "        \n",
    "        for img in os.listdir(path):\n",
    "            img_path=os.path.join(path, img)\n",
    "            \n",
    "            img_array=cv2.imread(img_path)\n",
    "            gray=cv2.cvtColor(img_array, cv2.COLOR_BGR2GRAY)\n",
    "            \n",
    "            faces_rect=haar_cascade.detectMultiScale(gray, scaleFactor=1.1, minNeighbors=4)\n",
    "            for (x, y, w, h) in faces_rect:\n",
    "                faces_roi=gray[y:y+h, x:x+w]\n",
    "                features.append(faces_roi)\n",
    "                labels.append(label)\n",
    "                \n",
    "create_train()\n",
    "print(\"Training done-------------------\")\n",
    "    "
   ]
  },
  {
   "cell_type": "code",
   "execution_count": 4,
   "id": "6abb9169-11ad-45f0-910d-bb27c467608c",
   "metadata": {},
   "outputs": [
    {
     "name": "stdout",
     "output_type": "stream",
     "text": [
      "Requirement already satisfied: opencv-contrib-python in c:\\users\\adarsh\\appdata\\roaming\\python\\python310\\site-packages (4.8.0.74)\n",
      "Requirement already satisfied: numpy>=1.17.3 in c:\\users\\adarsh\\anaconda3\\lib\\site-packages (from opencv-contrib-python) (1.23.5)\n"
     ]
    },
    {
     "name": "stderr",
     "output_type": "stream",
     "text": [
      "WARNING: Ignoring invalid distribution -rotobuf (c:\\users\\adarsh\\anaconda3\\lib\\site-packages)\n",
      "WARNING: Ignoring invalid distribution - (c:\\users\\adarsh\\anaconda3\\lib\\site-packages)\n",
      "WARNING: Ignoring invalid distribution -rotobuf (c:\\users\\adarsh\\anaconda3\\lib\\site-packages)\n",
      "WARNING: Ignoring invalid distribution - (c:\\users\\adarsh\\anaconda3\\lib\\site-packages)\n",
      "WARNING: Ignoring invalid distribution -rotobuf (c:\\users\\adarsh\\anaconda3\\lib\\site-packages)\n",
      "WARNING: Ignoring invalid distribution - (c:\\users\\adarsh\\anaconda3\\lib\\site-packages)\n",
      "WARNING: Ignoring invalid distribution -rotobuf (c:\\users\\adarsh\\anaconda3\\lib\\site-packages)\n",
      "WARNING: Ignoring invalid distribution - (c:\\users\\adarsh\\anaconda3\\lib\\site-packages)\n",
      "WARNING: Ignoring invalid distribution -rotobuf (c:\\users\\adarsh\\anaconda3\\lib\\site-packages)\n",
      "WARNING: Ignoring invalid distribution - (c:\\users\\adarsh\\anaconda3\\lib\\site-packages)\n",
      "WARNING: Ignoring invalid distribution -rotobuf (c:\\users\\adarsh\\anaconda3\\lib\\site-packages)\n",
      "WARNING: Ignoring invalid distribution - (c:\\users\\adarsh\\anaconda3\\lib\\site-packages)\n"
     ]
    }
   ],
   "source": [
    "!pip install opencv-contrib-python\n"
   ]
  },
  {
   "cell_type": "code",
   "execution_count": 5,
   "id": "9c951597-7e44-4239-afa9-bfce107b75ed",
   "metadata": {},
   "outputs": [],
   "source": [
    "features=np.array(features, dtype='object')\n",
    "labels=np.array(labels)\n"
   ]
  },
  {
   "cell_type": "code",
   "execution_count": 7,
   "id": "52a573a7-8dd0-49c8-8553-49387a2edfe1",
   "metadata": {},
   "outputs": [],
   "source": [
    "import cv2\n",
    "\n",
    "face_recognizer = cv2.face.LBPHFaceRecognizer_create()\n"
   ]
  },
  {
   "cell_type": "code",
   "execution_count": 8,
   "id": "03ff8855-1336-4497-a9b9-76ff3eb237c1",
   "metadata": {},
   "outputs": [],
   "source": [
    "face_recognizer.train(features, labels)"
   ]
  },
  {
   "cell_type": "code",
   "execution_count": 10,
   "id": "48908a1f-f53b-4950-a374-adcc1e3b3568",
   "metadata": {},
   "outputs": [],
   "source": [
    "face_recognizer.save('face_trained.yml')\n",
    "np.save(\"features.npy\", features)\n",
    "np.save(\"labels.npy\", labels)\n"
   ]
  },
  {
   "cell_type": "code",
   "execution_count": null,
   "id": "4dd79682-3402-40d5-89b6-dcd81ddacc84",
   "metadata": {},
   "outputs": [],
   "source": []
  },
  {
   "cell_type": "code",
   "execution_count": null,
   "id": "378dfa47-3b37-462a-8d38-5ec1a1ba2f34",
   "metadata": {},
   "outputs": [],
   "source": []
  },
  {
   "cell_type": "code",
   "execution_count": null,
   "id": "997fa45f-f25e-4597-a8da-506dd1be0f24",
   "metadata": {},
   "outputs": [],
   "source": []
  },
  {
   "cell_type": "code",
   "execution_count": null,
   "id": "edc75d15-945f-40e4-be3b-c9bd7ccc1612",
   "metadata": {},
   "outputs": [],
   "source": []
  },
  {
   "cell_type": "code",
   "execution_count": null,
   "id": "8cd7fa78-3cf2-44fe-8205-2c1963935c5d",
   "metadata": {},
   "outputs": [],
   "source": []
  },
  {
   "cell_type": "code",
   "execution_count": null,
   "id": "2f122ae7-94db-45e8-83e7-9bfac8cf7c93",
   "metadata": {},
   "outputs": [],
   "source": []
  },
  {
   "cell_type": "code",
   "execution_count": null,
   "id": "6f1a19c8-ac0f-46ef-8705-af85f7f3ae2e",
   "metadata": {},
   "outputs": [],
   "source": []
  }
 ],
 "metadata": {
  "kernelspec": {
   "display_name": "Python 3 (ipykernel)",
   "language": "python",
   "name": "python3"
  },
  "language_info": {
   "codemirror_mode": {
    "name": "ipython",
    "version": 3
   },
   "file_extension": ".py",
   "mimetype": "text/x-python",
   "name": "python",
   "nbconvert_exporter": "python",
   "pygments_lexer": "ipython3",
   "version": "3.10.9"
  }
 },
 "nbformat": 4,
 "nbformat_minor": 5
}
