{
 "cells": [
  {
   "cell_type": "code",
   "execution_count": 1,
   "id": "e95497c8-0cf3-4c6c-8857-1e8016cfd088",
   "metadata": {},
   "outputs": [],
   "source": [
    "import numpy as np\n",
    "import cv2\n"
   ]
  },
  {
   "cell_type": "code",
   "execution_count": 2,
   "id": "5e93ebfe-9ebc-427e-a437-4f72ca4a721a",
   "metadata": {},
   "outputs": [],
   "source": [
    "haar_cascade = cv2.CascadeClassifier('haar_cascade_default_file.xml')"
   ]
  },
  {
   "cell_type": "code",
   "execution_count": 4,
   "id": "392b5ac1-2335-4585-b4c2-f6d6141aa049",
   "metadata": {},
   "outputs": [],
   "source": [
    "features = np.load('features.npy', allow_pickle=True)\n",
    "labels = np.load('labels.npy', allow_pickle=True)\n"
   ]
  },
  {
   "cell_type": "code",
   "execution_count": 5,
   "id": "7e416777-5251-410d-af5d-0e1f5e769a4e",
   "metadata": {},
   "outputs": [],
   "source": [
    "people=['Angelina Jolie', 'Tom Hanks', 'Hugh Jackman','Denzel Washington', 'Scarlett Johansson']\n"
   ]
  },
  {
   "cell_type": "code",
   "execution_count": 6,
   "id": "66dfbcbd-4dc8-451b-b800-1555a24b1db9",
   "metadata": {},
   "outputs": [],
   "source": [
    "face_recognizer = cv2.face.LBPHFaceRecognizer_create()\n",
    "face_recognizer.read('face_trained.yml')\n"
   ]
  },
  {
   "cell_type": "code",
   "execution_count": 8,
   "id": "7c389759-b765-41c9-8d05-cb301037cff4",
   "metadata": {},
   "outputs": [],
   "source": [
    "img=cv2.imread(r'D:\\Facial recognition\\Celebrity Faces Dataset\\Hugh Jackman\\030_c2291830.jpg')\n",
    "gray=cv2.cvtColor(img, cv2.COLOR_BGR2GRAY)\n",
    "cv2.imshow('Person', gray)"
   ]
  },
  {
   "cell_type": "code",
   "execution_count": 9,
   "id": "c39b0206-1516-443e-9469-fe0daa719337",
   "metadata": {},
   "outputs": [
    {
     "name": "stdout",
     "output_type": "stream",
     "text": [
      "Label = Hugh Jackman with confidence of 0.0\n"
     ]
    },
    {
     "data": {
      "text/plain": [
       "-1"
      ]
     },
     "execution_count": 9,
     "metadata": {},
     "output_type": "execute_result"
    }
   ],
   "source": [
    "faces_rect=haar_cascade.detectMultiScale(gray, 1.1, 4)\n",
    "\n",
    "for (x, y, w, h) in faces_rect:\n",
    "    faces_roi=gray[y:y+h, x:x+h]\n",
    "    label, confidence=face_recognizer.predict(faces_roi)\n",
    "    print(f'Label = {people[label]} with confidence of {confidence}')\n",
    "    \n",
    "    cv2.putText(img, str(people[label]), (20,20), cv2.FONT_HERSHEY_COMPLEX, 1.0, (0,255,0), thickness=2)\n",
    "    cv2.rectangle(img, (x, y), (x+w, y+h), (0,255,0), thickness=2)\n",
    "    \n",
    "cv2.imshow(\"Detected Image\", img)\n",
    "cv2.waitKey(0)"
   ]
  },
  {
   "cell_type": "code",
   "execution_count": null,
   "id": "b1a34773-8d2d-4d05-ad2a-4fa55fcfe595",
   "metadata": {},
   "outputs": [],
   "source": []
  }
 ],
 "metadata": {
  "kernelspec": {
   "display_name": "Python 3 (ipykernel)",
   "language": "python",
   "name": "python3"
  },
  "language_info": {
   "codemirror_mode": {
    "name": "ipython",
    "version": 3
   },
   "file_extension": ".py",
   "mimetype": "text/x-python",
   "name": "python",
   "nbconvert_exporter": "python",
   "pygments_lexer": "ipython3",
   "version": "3.10.9"
  }
 },
 "nbformat": 4,
 "nbformat_minor": 5
}
