{
  "nbformat": 4,
  "nbformat_minor": 0,
  "metadata": {
    "colab": {
      "provenance": []
    },
    "kernelspec": {
      "name": "python3",
      "display_name": "Python 3"
    },
    "language_info": {
      "name": "python"
    }
  },
  "cells": [
    {
      "cell_type": "code",
      "execution_count": null,
      "metadata": {
        "id": "NY1HpyvrdhjP"
      },
      "outputs": [],
      "source": []
    },
    {
      "cell_type": "markdown",
      "source": [
        "Question 4"
      ],
      "metadata": {
        "id": "yF-wEIs5geuf"
      }
    },
    {
      "cell_type": "code",
      "source": [
        "def reverse_string(s):\n",
        "    reversed_str = \"\"\n",
        "    for i in range(len(s) - 1, -1, -1):\n",
        "        reversed_str += s[i]\n",
        "    return reversed_str\n",
        "\n",
        "# Function input\n",
        "s = \"Findmeout\"\n",
        "reversed_s = reverse_string(s)\n",
        "print(reversed_s)"
      ],
      "metadata": {
        "colab": {
          "base_uri": "https://localhost:8080/"
        },
        "id": "oiIkHzz_gPty",
        "outputId": "671489df-1763-490b-b3d7-a478c609e98c"
      },
      "execution_count": 1,
      "outputs": [
        {
          "output_type": "stream",
          "name": "stdout",
          "text": [
            "tuoemdniF\n"
          ]
        }
      ]
    },
    {
      "cell_type": "markdown",
      "source": [
        "Question 5"
      ],
      "metadata": {
        "id": "28M8oFGogkSz"
      }
    },
    {
      "cell_type": "code",
      "source": [
        "def is_palindrome(s):\n",
        "    reversed_s = s[::-1]  # Reversing the string using slicing\n",
        "    if s == reversed_s:\n",
        "        return 1  # The string is a palindrome\n",
        "    else:\n",
        "        return 0  # The string is not a palindrome\n",
        "\n",
        "# Function input\n",
        "S = \"abba\"\n",
        "result = is_palindrome(S)\n",
        "print(result)"
      ],
      "metadata": {
        "colab": {
          "base_uri": "https://localhost:8080/"
        },
        "id": "MAau_uAhgR3n",
        "outputId": "f2abd768-37cb-4a9a-e508-362febbe7831"
      },
      "execution_count": 2,
      "outputs": [
        {
          "output_type": "stream",
          "name": "stdout",
          "text": [
            "1\n"
          ]
        }
      ]
    },
    {
      "cell_type": "markdown",
      "source": [
        "Question 1"
      ],
      "metadata": {
        "id": "VKVsmEQrhyWZ"
      }
    },
    {
      "cell_type": "code",
      "source": [
        "def leader(arr):\n",
        "    n = len(arr)\n",
        "    leaders = []  # List to store the leaders\n",
        "    max_element = arr[n - 1]  # Rightmost element is always a leader\n",
        "    leaders.append(max_element)\n",
        "\n",
        "    # Traverse the array from right to left\n",
        "    for i in range(n - 2, -1, -1):\n",
        "        if arr[i] >= max_element:\n",
        "            max_element = arr[i]\n",
        "            leaders.append(max_element)\n",
        "\n",
        "    leaders.reverse()  # Reverse the list to get the leaders in the correct order\n",
        "    return leaders\n",
        "\n",
        "# Function input\n",
        "arr = [16, 17, 4, 3, 5, 2]\n",
        "result = leader(arr)\n",
        "print(result)\n"
      ],
      "metadata": {
        "colab": {
          "base_uri": "https://localhost:8080/"
        },
        "id": "YflSvvE2hz0y",
        "outputId": "7bdb3429-f75e-443f-ab6b-3dd7f5e68b43"
      },
      "execution_count": 6,
      "outputs": [
        {
          "output_type": "stream",
          "name": "stdout",
          "text": [
            "[17, 5, 2]\n"
          ]
        }
      ]
    },
    {
      "cell_type": "markdown",
      "source": [
        "Question 3"
      ],
      "metadata": {
        "id": "L1Abn7rThrLz"
      }
    },
    {
      "cell_type": "code",
      "source": [
        "def minimum_platforms(arr, dep):\n",
        "    arr.sort()  \n",
        "    dep.sort()  \n",
        "\n",
        "    platforms_needed = 1  \n",
        "    max_platforms = 1  \n",
        "    i = 1  # variable for departure times\n",
        "    j = 0  # variable for arrival times\n",
        "    n = len(arr)\n",
        "\n",
        "    while i < n and j < n:\n",
        "        # If a train is arriving before the previous train has departed\n",
        "        if arr[j] <= dep[i]:\n",
        "            platforms_needed += 1\n",
        "            j += 1\n",
        "        # If a train has departed, we can free up a platform\n",
        "        elif arr[j] > dep[i]:\n",
        "            platforms_needed -= 1\n",
        "            i += 1\n",
        "\n",
        "        # Update the maximum number of platforms needed\n",
        "        max_platforms = max(max_platforms, platforms_needed)\n",
        "\n",
        "    return max_platforms\n",
        "\n",
        "# Function input\n",
        "arr = [900, 940, 950, 1100, 1500, 1800]\n",
        "dep = [910, 1200, 1120, 1130, 1900, 2000]\n",
        "result = minimum_platforms(arr, dep)\n",
        "print(result)\n"
      ],
      "metadata": {
        "colab": {
          "base_uri": "https://localhost:8080/"
        },
        "id": "NRianr4qgq7o",
        "outputId": "ed2feb53-9dc5-44e0-8cd5-17a5cc29b4c6"
      },
      "execution_count": 5,
      "outputs": [
        {
          "output_type": "stream",
          "name": "stdout",
          "text": [
            "5\n"
          ]
        }
      ]
    },
    {
      "cell_type": "code",
      "source": [],
      "metadata": {
        "id": "cGkntcSyhue9"
      },
      "execution_count": null,
      "outputs": []
    }
  ]
}